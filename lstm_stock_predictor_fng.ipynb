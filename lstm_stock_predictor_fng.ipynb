{
 "cells": [
  {
   "cell_type": "markdown",
   "metadata": {},
   "source": [
    "# LSTM Stock Predictor Using Fear and Greed Index\n",
    "\n",
    "In this notebook, you will build and train a custom LSTM RNN that uses a 10 day window of Bitcoin fear and greed index values to predict the 11th day closing price. \n",
    "\n",
    "You will need to:\n",
    "\n",
    "1. Prepare the data for training and testing\n",
    "2. Build and train a custom LSTM RNN\n",
    "3. Evaluate the performance of the model"
   ]
  },
  {
   "cell_type": "markdown",
   "metadata": {},
   "source": [
    "## Data Preparation\n",
    "\n",
    "In this section, you will need to prepare the training and testing data for the model. The model will use a rolling 10 day window to predict the 11th day closing price.\n",
    "\n",
    "You will need to:\n",
    "1. Use the `window_data` function to generate the X and y values for the model.\n",
    "2. Split the data into 70% training and 30% testing\n",
    "3. Apply the MinMaxScaler to the X and y values\n",
    "4. Reshape the X_train and X_test data for the model. Note: The required input format for the LSTM is:\n",
    "\n",
    "```python\n",
    "reshape((X_train.shape[0], X_train.shape[1], 1))\n",
    "```"
   ]
  },
  {
   "cell_type": "code",
   "execution_count": 116,
   "metadata": {},
   "outputs": [],
   "source": [
    "import numpy as np\n",
    "import pandas as pd\n",
    "import hvplot.pandas"
   ]
  },
  {
   "cell_type": "code",
   "execution_count": 117,
   "metadata": {},
   "outputs": [],
   "source": [
    "# Set the random seed for reproducibility\n",
    "# Note: This is for the homework solution, but it is good practice to comment this out and run multiple experiments to evaluate your model\n",
    "from numpy.random import seed\n",
    "seed(1)\n",
    "from tensorflow import random\n",
    "random.set_seed(2)"
   ]
  },
  {
   "cell_type": "code",
   "execution_count": 118,
   "metadata": {},
   "outputs": [
    {
     "output_type": "execute_result",
     "data": {
      "text/plain": [
       "             fng_value\n",
       "date                  \n",
       "2019-07-29          19\n",
       "2019-07-28          16\n",
       "2019-07-27          47\n",
       "2019-07-26          24\n",
       "2019-07-25          42"
      ],
      "text/html": "<div>\n<style scoped>\n    .dataframe tbody tr th:only-of-type {\n        vertical-align: middle;\n    }\n\n    .dataframe tbody tr th {\n        vertical-align: top;\n    }\n\n    .dataframe thead th {\n        text-align: right;\n    }\n</style>\n<table border=\"1\" class=\"dataframe\">\n  <thead>\n    <tr style=\"text-align: right;\">\n      <th></th>\n      <th>fng_value</th>\n    </tr>\n    <tr>\n      <th>date</th>\n      <th></th>\n    </tr>\n  </thead>\n  <tbody>\n    <tr>\n      <th>2019-07-29</th>\n      <td>19</td>\n    </tr>\n    <tr>\n      <th>2019-07-28</th>\n      <td>16</td>\n    </tr>\n    <tr>\n      <th>2019-07-27</th>\n      <td>47</td>\n    </tr>\n    <tr>\n      <th>2019-07-26</th>\n      <td>24</td>\n    </tr>\n    <tr>\n      <th>2019-07-25</th>\n      <td>42</td>\n    </tr>\n  </tbody>\n</table>\n</div>"
     },
     "metadata": {},
     "execution_count": 118
    }
   ],
   "source": [
    "# Load the fear and greed sentiment data for Bitcoin\n",
    "df = pd.read_csv('Data/btc_sentiment.csv', index_col=\"date\", infer_datetime_format=True, parse_dates=True)\n",
    "df = df.drop(columns=\"fng_classification\")\n",
    "df.head()"
   ]
  },
  {
   "cell_type": "code",
   "execution_count": 119,
   "metadata": {},
   "outputs": [
    {
     "output_type": "execute_result",
     "data": {
      "text/plain": [
       "Date\n",
       "2019-07-25    9882.429688\n",
       "2019-07-26    9847.450195\n",
       "2019-07-27    9478.320313\n",
       "2019-07-28    9531.769531\n",
       "2019-07-29    9529.889648\n",
       "Name: Close, dtype: float64"
      ]
     },
     "metadata": {},
     "execution_count": 119
    }
   ],
   "source": [
    "# Load the historical closing prices for Bitcoin\n",
    "df2 = pd.read_csv('Data/btc_historic.csv', index_col=\"Date\", infer_datetime_format=True, parse_dates=True)['Close']\n",
    "df2 = df2.sort_index()\n",
    "df2.tail()"
   ]
  },
  {
   "cell_type": "code",
   "execution_count": 120,
   "metadata": {},
   "outputs": [
    {
     "output_type": "execute_result",
     "data": {
      "text/plain": [
       "             fng_value        Close\n",
       "2019-07-25          42  9882.429688\n",
       "2019-07-26          24  9847.450195\n",
       "2019-07-27          47  9478.320313\n",
       "2019-07-28          16  9531.769531\n",
       "2019-07-29          19  9529.889648"
      ],
      "text/html": "<div>\n<style scoped>\n    .dataframe tbody tr th:only-of-type {\n        vertical-align: middle;\n    }\n\n    .dataframe tbody tr th {\n        vertical-align: top;\n    }\n\n    .dataframe thead th {\n        text-align: right;\n    }\n</style>\n<table border=\"1\" class=\"dataframe\">\n  <thead>\n    <tr style=\"text-align: right;\">\n      <th></th>\n      <th>fng_value</th>\n      <th>Close</th>\n    </tr>\n  </thead>\n  <tbody>\n    <tr>\n      <th>2019-07-25</th>\n      <td>42</td>\n      <td>9882.429688</td>\n    </tr>\n    <tr>\n      <th>2019-07-26</th>\n      <td>24</td>\n      <td>9847.450195</td>\n    </tr>\n    <tr>\n      <th>2019-07-27</th>\n      <td>47</td>\n      <td>9478.320313</td>\n    </tr>\n    <tr>\n      <th>2019-07-28</th>\n      <td>16</td>\n      <td>9531.769531</td>\n    </tr>\n    <tr>\n      <th>2019-07-29</th>\n      <td>19</td>\n      <td>9529.889648</td>\n    </tr>\n  </tbody>\n</table>\n</div>"
     },
     "metadata": {},
     "execution_count": 120
    }
   ],
   "source": [
    "# Join the data into a single DataFrame\n",
    "df = df.join(df2, how=\"inner\")\n",
    "df.tail()"
   ]
  },
  {
   "cell_type": "code",
   "execution_count": 121,
   "metadata": {},
   "outputs": [
    {
     "output_type": "execute_result",
     "data": {
      "text/plain": [
       "             fng_value        Close\n",
       "2018-02-01          30  9114.719727\n",
       "2018-02-02          15  8870.820313\n",
       "2018-02-03          40  9251.269531\n",
       "2018-02-04          24  8218.049805\n",
       "2018-02-05          11  6937.080078"
      ],
      "text/html": "<div>\n<style scoped>\n    .dataframe tbody tr th:only-of-type {\n        vertical-align: middle;\n    }\n\n    .dataframe tbody tr th {\n        vertical-align: top;\n    }\n\n    .dataframe thead th {\n        text-align: right;\n    }\n</style>\n<table border=\"1\" class=\"dataframe\">\n  <thead>\n    <tr style=\"text-align: right;\">\n      <th></th>\n      <th>fng_value</th>\n      <th>Close</th>\n    </tr>\n  </thead>\n  <tbody>\n    <tr>\n      <th>2018-02-01</th>\n      <td>30</td>\n      <td>9114.719727</td>\n    </tr>\n    <tr>\n      <th>2018-02-02</th>\n      <td>15</td>\n      <td>8870.820313</td>\n    </tr>\n    <tr>\n      <th>2018-02-03</th>\n      <td>40</td>\n      <td>9251.269531</td>\n    </tr>\n    <tr>\n      <th>2018-02-04</th>\n      <td>24</td>\n      <td>8218.049805</td>\n    </tr>\n    <tr>\n      <th>2018-02-05</th>\n      <td>11</td>\n      <td>6937.080078</td>\n    </tr>\n  </tbody>\n</table>\n</div>"
     },
     "metadata": {},
     "execution_count": 121
    }
   ],
   "source": [
    "df.head()"
   ]
  },
  {
   "cell_type": "code",
   "execution_count": 122,
   "metadata": {},
   "outputs": [],
   "source": [
    "# This function accepts the column number for the features (X) and the target (y)\n",
    "# It chunks the data up with a rolling window of Xt-n to predict Xt\n",
    "# It returns a numpy array of X any y\n",
    "def window_data(df, window, feature_col_number, target_col_number):\n",
    "    X = []\n",
    "    y = []\n",
    "    for i in range(len(df) - window - 1):\n",
    "        features = df.iloc[i:(i + window), feature_col_number]\n",
    "        target = df.iloc[(i + window), target_col_number]\n",
    "        X.append(features)\n",
    "        y.append(target)\n",
    "    return np.array(X), np.array(y).reshape(-1, 1)"
   ]
  },
  {
   "cell_type": "code",
   "execution_count": 123,
   "metadata": {},
   "outputs": [],
   "source": [
    "# Predict Closing Prices using a 10 day window of previous fng values\n",
    "# Then, experiment with window sizes anywhere from 1 to 10 and see how the model performance changes\n",
    "window_size = 1\n",
    "\n",
    "# Column index 0 is the 'fng_value' column\n",
    "# Column index 1 is the `Close` column\n",
    "feature_column = 0\n",
    "target_column = 1\n",
    "X, y = window_data(df, window_size, feature_column, target_column)"
   ]
  },
  {
   "cell_type": "code",
   "execution_count": 124,
   "metadata": {},
   "outputs": [],
   "source": [
    "# Use 70% of the data for training and the remaineder for testing\n",
    "split = int(0.7 * len(X))\n",
    "\n",
    "X_train = X[: split]\n",
    "X_test = X[split:]\n",
    "y_train = y[: split]\n",
    "y_test = y[split:]"
   ]
  },
  {
   "cell_type": "code",
   "execution_count": 125,
   "metadata": {},
   "outputs": [],
   "source": [
    "from sklearn.preprocessing import MinMaxScaler\n",
    "# Use the MinMaxScaler to scale data between 0 and 1.\n",
    "scaler = MinMaxScaler()\n",
    "\n",
    "scaler.fit(X)\n",
    "X_train = scaler.transform(X_train)\n",
    "X_test = scaler.transform(X_test)\n",
    "\n",
    "scaler.fit(y)\n",
    "y_train = scaler.transform(y_train)\n",
    "y_test = scaler.transform(y_test)"
   ]
  },
  {
   "cell_type": "code",
   "execution_count": 126,
   "metadata": {},
   "outputs": [],
   "source": [
    "# Reshape the features for the model\n",
    "X_train = X_train.reshape((X_train.shape[0], X_train.shape[1], 1))\n",
    "X_test = X_test.reshape((X_test.shape[0], X_test.shape[1], 1))"
   ]
  },
  {
   "cell_type": "markdown",
   "metadata": {},
   "source": [
    "---"
   ]
  },
  {
   "cell_type": "markdown",
   "metadata": {},
   "source": [
    "## Build and Train the LSTM RNN\n",
    "\n",
    "In this section, you will design a custom LSTM RNN and fit (train) it using the training data.\n",
    "\n",
    "You will need to:\n",
    "1. Define the model architecture\n",
    "2. Compile the model\n",
    "3. Fit the model to the training data\n",
    "\n",
    "### Hints:\n",
    "You will want to use the same model architecture and random seed for both notebooks. This is necessary to accurately compare the performance of the FNG model vs the closing price model. "
   ]
  },
  {
   "cell_type": "code",
   "execution_count": 127,
   "metadata": {},
   "outputs": [],
   "source": [
    "from tensorflow.keras.models import Sequential\n",
    "from tensorflow.keras.layers import LSTM, Dense, Dropout"
   ]
  },
  {
   "cell_type": "code",
   "execution_count": 128,
   "metadata": {},
   "outputs": [],
   "source": [
    "# Build the LSTM model. \n",
    "# The return sequences need to be set to True if you are adding additional LSTM layers, but \n",
    "# You don't have to do this for the final layer. \n",
    "# Note: The dropouts help prevent overfitting\n",
    "# Note: The input shape is the number of time steps and the number of indicators\n",
    "# Note: Batching inputs has a different input shape of Samples/TimeSteps/Features\n",
    "\n",
    "model = Sequential()\n",
    "\n",
    "number_units = 30\n",
    "dropout_fraction = 0.2\n",
    "\n",
    "# Layer 1\n",
    "model.add(LSTM(units=number_units, return_sequences=True, input_shape=(X_train.shape[1], 1)))\n",
    "model.add(Dropout(dropout_fraction))\n",
    "\n",
    "# Layer 2\n",
    "model.add(LSTM(units=number_units, return_sequences=True))\n",
    "model.add(Dropout(dropout_fraction))\n",
    "\n",
    "# Layer 3\n",
    "model.add(LSTM(units=number_units))\n",
    "model.add(Dropout(dropout_fraction))\n",
    "\n",
    "# Output layer\n",
    "model.add(Dense(1))"
   ]
  },
  {
   "cell_type": "code",
   "execution_count": 129,
   "metadata": {},
   "outputs": [],
   "source": [
    "# Compile the model\n",
    "model.compile(optimizer=\"adam\", loss=\"mean_squared_error\")"
   ]
  },
  {
   "cell_type": "code",
   "execution_count": 130,
   "metadata": {},
   "outputs": [
    {
     "output_type": "stream",
     "name": "stdout",
     "text": [
      "Model: \"sequential_5\"\n_________________________________________________________________\nLayer (type)                 Output Shape              Param #   \n=================================================================\nlstm_15 (LSTM)               (None, 1, 30)             3840      \n_________________________________________________________________\ndropout_15 (Dropout)         (None, 1, 30)             0         \n_________________________________________________________________\nlstm_16 (LSTM)               (None, 1, 30)             7320      \n_________________________________________________________________\ndropout_16 (Dropout)         (None, 1, 30)             0         \n_________________________________________________________________\nlstm_17 (LSTM)               (None, 30)                7320      \n_________________________________________________________________\ndropout_17 (Dropout)         (None, 30)                0         \n_________________________________________________________________\ndense_5 (Dense)              (None, 1)                 31        \n=================================================================\nTotal params: 18,511\nTrainable params: 18,511\nNon-trainable params: 0\n_________________________________________________________________\n"
     ]
    }
   ],
   "source": [
    "# Summarize the model\n",
    "model.summary()"
   ]
  },
  {
   "cell_type": "code",
   "execution_count": 131,
   "metadata": {},
   "outputs": [
    {
     "output_type": "stream",
     "name": "stdout",
     "text": [
      "Epoch 1/100\n",
      "378/378 [==============================] - 4s 2ms/step - loss: 0.1397\n",
      "Epoch 2/100\n",
      "378/378 [==============================] - 1s 2ms/step - loss: 0.0831\n",
      "Epoch 3/100\n",
      "378/378 [==============================] - 1s 2ms/step - loss: 0.0809\n",
      "Epoch 4/100\n",
      "378/378 [==============================] - 1s 2ms/step - loss: 0.0752\n",
      "Epoch 5/100\n",
      "378/378 [==============================] - 1s 2ms/step - loss: 0.0722\n",
      "Epoch 6/100\n",
      "378/378 [==============================] - 1s 2ms/step - loss: 0.0720\n",
      "Epoch 7/100\n",
      "378/378 [==============================] - 1s 2ms/step - loss: 0.0705\n",
      "Epoch 8/100\n",
      "378/378 [==============================] - 1s 2ms/step - loss: 0.0682\n",
      "Epoch 9/100\n",
      "378/378 [==============================] - 1s 2ms/step - loss: 0.0704\n",
      "Epoch 10/100\n",
      "378/378 [==============================] - 1s 2ms/step - loss: 0.0725\n",
      "Epoch 11/100\n",
      "378/378 [==============================] - 1s 2ms/step - loss: 0.0722\n",
      "Epoch 12/100\n",
      "378/378 [==============================] - 1s 2ms/step - loss: 0.0729\n",
      "Epoch 13/100\n",
      "378/378 [==============================] - 1s 2ms/step - loss: 0.0736\n",
      "Epoch 14/100\n",
      "378/378 [==============================] - 1s 2ms/step - loss: 0.0741\n",
      "Epoch 15/100\n",
      "378/378 [==============================] - 1s 2ms/step - loss: 0.0725\n",
      "Epoch 16/100\n",
      "378/378 [==============================] - 1s 2ms/step - loss: 0.0717\n",
      "Epoch 17/100\n",
      "378/378 [==============================] - 1s 2ms/step - loss: 0.0734\n",
      "Epoch 18/100\n",
      "378/378 [==============================] - 1s 2ms/step - loss: 0.0741\n",
      "Epoch 19/100\n",
      "378/378 [==============================] - 1s 2ms/step - loss: 0.0726\n",
      "Epoch 20/100\n",
      "378/378 [==============================] - 1s 2ms/step - loss: 0.0737\n",
      "Epoch 21/100\n",
      "378/378 [==============================] - 1s 2ms/step - loss: 0.0723\n",
      "Epoch 22/100\n",
      "378/378 [==============================] - 1s 2ms/step - loss: 0.0707\n",
      "Epoch 23/100\n",
      "378/378 [==============================] - 1s 2ms/step - loss: 0.0712\n",
      "Epoch 24/100\n",
      "378/378 [==============================] - 1s 2ms/step - loss: 0.0725\n",
      "Epoch 25/100\n",
      "378/378 [==============================] - 1s 2ms/step - loss: 0.0707\n",
      "Epoch 26/100\n",
      "378/378 [==============================] - 1s 2ms/step - loss: 0.0702\n",
      "Epoch 27/100\n",
      "378/378 [==============================] - 1s 2ms/step - loss: 0.0698\n",
      "Epoch 28/100\n",
      "378/378 [==============================] - 1s 2ms/step - loss: 0.0706\n",
      "Epoch 29/100\n",
      "378/378 [==============================] - 1s 2ms/step - loss: 0.0688\n",
      "Epoch 30/100\n",
      "378/378 [==============================] - 1s 2ms/step - loss: 0.0723\n",
      "Epoch 31/100\n",
      "378/378 [==============================] - 1s 2ms/step - loss: 0.0687\n",
      "Epoch 32/100\n",
      "378/378 [==============================] - 1s 2ms/step - loss: 0.0717\n",
      "Epoch 33/100\n",
      "378/378 [==============================] - 1s 2ms/step - loss: 0.0713\n",
      "Epoch 34/100\n",
      "378/378 [==============================] - 1s 2ms/step - loss: 0.0682\n",
      "Epoch 35/100\n",
      "378/378 [==============================] - 1s 2ms/step - loss: 0.0699\n",
      "Epoch 36/100\n",
      "378/378 [==============================] - 1s 2ms/step - loss: 0.0702\n",
      "Epoch 37/100\n",
      "378/378 [==============================] - 1s 2ms/step - loss: 0.0706\n",
      "Epoch 38/100\n",
      "378/378 [==============================] - 1s 2ms/step - loss: 0.0663\n",
      "Epoch 39/100\n",
      "378/378 [==============================] - 1s 2ms/step - loss: 0.0702\n",
      "Epoch 40/100\n",
      "378/378 [==============================] - 1s 2ms/step - loss: 0.0671\n",
      "Epoch 41/100\n",
      "378/378 [==============================] - 1s 2ms/step - loss: 0.0683\n",
      "Epoch 42/100\n",
      "378/378 [==============================] - 1s 2ms/step - loss: 0.0686\n",
      "Epoch 43/100\n",
      "378/378 [==============================] - 1s 2ms/step - loss: 0.0682\n",
      "Epoch 44/100\n",
      "378/378 [==============================] - 1s 2ms/step - loss: 0.0706\n",
      "Epoch 45/100\n",
      "378/378 [==============================] - 1s 2ms/step - loss: 0.0689\n",
      "Epoch 46/100\n",
      "378/378 [==============================] - 1s 2ms/step - loss: 0.0689\n",
      "Epoch 47/100\n",
      "378/378 [==============================] - 1s 2ms/step - loss: 0.0677\n",
      "Epoch 48/100\n",
      "378/378 [==============================] - 1s 2ms/step - loss: 0.0694\n",
      "Epoch 49/100\n",
      "378/378 [==============================] - 1s 2ms/step - loss: 0.0695\n",
      "Epoch 50/100\n",
      "378/378 [==============================] - 1s 2ms/step - loss: 0.0655\n",
      "Epoch 51/100\n",
      "378/378 [==============================] - 1s 2ms/step - loss: 0.0687\n",
      "Epoch 52/100\n",
      "378/378 [==============================] - 1s 2ms/step - loss: 0.0706\n",
      "Epoch 53/100\n",
      "378/378 [==============================] - 1s 2ms/step - loss: 0.0682\n",
      "Epoch 54/100\n",
      "378/378 [==============================] - 1s 2ms/step - loss: 0.0683\n",
      "Epoch 55/100\n",
      "378/378 [==============================] - 1s 2ms/step - loss: 0.0675\n",
      "Epoch 56/100\n",
      "378/378 [==============================] - 1s 2ms/step - loss: 0.0671\n",
      "Epoch 57/100\n",
      "378/378 [==============================] - 1s 2ms/step - loss: 0.0663\n",
      "Epoch 58/100\n",
      "378/378 [==============================] - 1s 2ms/step - loss: 0.0683\n",
      "Epoch 59/100\n",
      "378/378 [==============================] - 1s 2ms/step - loss: 0.0699\n",
      "Epoch 60/100\n",
      "378/378 [==============================] - 1s 2ms/step - loss: 0.0687\n",
      "Epoch 61/100\n",
      "378/378 [==============================] - 1s 2ms/step - loss: 0.0695\n",
      "Epoch 62/100\n",
      "378/378 [==============================] - 1s 2ms/step - loss: 0.0660\n",
      "Epoch 63/100\n",
      "378/378 [==============================] - 1s 2ms/step - loss: 0.0661\n",
      "Epoch 64/100\n",
      "378/378 [==============================] - 1s 2ms/step - loss: 0.0687\n",
      "Epoch 65/100\n",
      "378/378 [==============================] - 1s 2ms/step - loss: 0.0671\n",
      "Epoch 66/100\n",
      "378/378 [==============================] - 1s 2ms/step - loss: 0.0657\n",
      "Epoch 67/100\n",
      "378/378 [==============================] - 1s 2ms/step - loss: 0.0675\n",
      "Epoch 68/100\n",
      "378/378 [==============================] - 1s 2ms/step - loss: 0.0646\n",
      "Epoch 69/100\n",
      "378/378 [==============================] - 1s 2ms/step - loss: 0.0646\n",
      "Epoch 70/100\n",
      "378/378 [==============================] - 1s 2ms/step - loss: 0.0645\n",
      "Epoch 71/100\n",
      "378/378 [==============================] - 1s 2ms/step - loss: 0.0660\n",
      "Epoch 72/100\n",
      "378/378 [==============================] - 1s 2ms/step - loss: 0.0641\n",
      "Epoch 73/100\n",
      "378/378 [==============================] - 1s 2ms/step - loss: 0.0661\n",
      "Epoch 74/100\n",
      "378/378 [==============================] - 1s 2ms/step - loss: 0.0656\n",
      "Epoch 75/100\n",
      "378/378 [==============================] - 1s 2ms/step - loss: 0.0658\n",
      "Epoch 76/100\n",
      "378/378 [==============================] - 1s 2ms/step - loss: 0.0637\n",
      "Epoch 77/100\n",
      "378/378 [==============================] - 1s 2ms/step - loss: 0.0654\n",
      "Epoch 78/100\n",
      "378/378 [==============================] - 1s 2ms/step - loss: 0.0646\n",
      "Epoch 79/100\n",
      "378/378 [==============================] - 1s 2ms/step - loss: 0.0672\n",
      "Epoch 80/100\n",
      "378/378 [==============================] - 1s 2ms/step - loss: 0.0636\n",
      "Epoch 81/100\n",
      "378/378 [==============================] - 1s 2ms/step - loss: 0.0648\n",
      "Epoch 82/100\n",
      "378/378 [==============================] - 1s 2ms/step - loss: 0.0655\n",
      "Epoch 83/100\n",
      "378/378 [==============================] - 1s 2ms/step - loss: 0.0652\n",
      "Epoch 84/100\n",
      "378/378 [==============================] - 1s 2ms/step - loss: 0.0634\n",
      "Epoch 85/100\n",
      "378/378 [==============================] - 1s 2ms/step - loss: 0.0676\n",
      "Epoch 86/100\n",
      "378/378 [==============================] - 1s 2ms/step - loss: 0.0656\n",
      "Epoch 87/100\n",
      "378/378 [==============================] - 1s 2ms/step - loss: 0.0677\n",
      "Epoch 88/100\n",
      "378/378 [==============================] - 1s 2ms/step - loss: 0.0638\n",
      "Epoch 89/100\n",
      "378/378 [==============================] - 1s 2ms/step - loss: 0.0655\n",
      "Epoch 90/100\n",
      "378/378 [==============================] - 1s 2ms/step - loss: 0.0647\n",
      "Epoch 91/100\n",
      "378/378 [==============================] - 1s 2ms/step - loss: 0.0620\n",
      "Epoch 92/100\n",
      "378/378 [==============================] - 1s 2ms/step - loss: 0.0632\n",
      "Epoch 93/100\n",
      "378/378 [==============================] - 1s 2ms/step - loss: 0.0679\n",
      "Epoch 94/100\n",
      "378/378 [==============================] - 1s 2ms/step - loss: 0.0647\n",
      "Epoch 95/100\n",
      "378/378 [==============================] - 1s 2ms/step - loss: 0.0631\n",
      "Epoch 96/100\n",
      "378/378 [==============================] - 1s 2ms/step - loss: 0.0637\n",
      "Epoch 97/100\n",
      "378/378 [==============================] - 1s 2ms/step - loss: 0.0640\n",
      "Epoch 98/100\n",
      "378/378 [==============================] - 1s 2ms/step - loss: 0.0626\n",
      "Epoch 99/100\n",
      "378/378 [==============================] - 1s 2ms/step - loss: 0.0627\n",
      "Epoch 100/100\n",
      "378/378 [==============================] - 1s 2ms/step - loss: 0.0622\n"
     ]
    },
    {
     "output_type": "execute_result",
     "data": {
      "text/plain": [
       "<tensorflow.python.keras.callbacks.History at 0x7fea45a77190>"
      ]
     },
     "metadata": {},
     "execution_count": 131
    }
   ],
   "source": [
    "# Train the model\n",
    "# Use at least 10 epochs\n",
    "# Do not shuffle the data\n",
    "# Experiement with the batch size, but a smaller batch size is recommended\n",
    "model.fit(X_train, y_train, epochs=100, shuffle=False, batch_size=1, verbose=1)"
   ]
  },
  {
   "cell_type": "markdown",
   "metadata": {},
   "source": [
    "---"
   ]
  },
  {
   "cell_type": "markdown",
   "metadata": {},
   "source": [
    "## Model Performance\n",
    "\n",
    "In this section, you will evaluate the model using the test data. \n",
    "\n",
    "You will need to:\n",
    "1. Evaluate the model using the `X_test` and `y_test` data.\n",
    "2. Use the X_test data to make predictions\n",
    "3. Create a DataFrame of Real (y_test) vs predicted values. \n",
    "4. Plot the Real vs predicted values as a line chart\n",
    "\n",
    "### Hints\n",
    "Remember to apply the `inverse_transform` function to the predicted and y_test values to recover the actual closing prices."
   ]
  },
  {
   "cell_type": "code",
   "execution_count": 132,
   "metadata": {},
   "outputs": [
    {
     "output_type": "stream",
     "name": "stdout",
     "text": [
      "6/6 [==============================] - 1s 2ms/step - loss: 0.0849\n"
     ]
    },
    {
     "output_type": "execute_result",
     "data": {
      "text/plain": [
       "0.08490078896284103"
      ]
     },
     "metadata": {},
     "execution_count": 132
    }
   ],
   "source": [
    "# Evaluate the model\n",
    "model.evaluate(X_test, y_test)"
   ]
  },
  {
   "cell_type": "code",
   "execution_count": 133,
   "metadata": {},
   "outputs": [],
   "source": [
    "# Make some predictions\n",
    "predicted = model.predict(X_test)"
   ]
  },
  {
   "cell_type": "code",
   "execution_count": 134,
   "metadata": {},
   "outputs": [],
   "source": [
    "# Recover the original prices instead of the scaled version\n",
    "predicted_prices = scaler.inverse_transform(predicted)\n",
    "real_prices = scaler.inverse_transform(y_test.reshape(-1, 1))"
   ]
  },
  {
   "cell_type": "code",
   "execution_count": 135,
   "metadata": {},
   "outputs": [
    {
     "output_type": "execute_result",
     "data": {
      "text/plain": [
       "                   Real    Predicted\n",
       "2019-02-17  3670.919922  5738.781250\n",
       "2019-02-18  3670.919922  5660.113770\n",
       "2019-02-19  3912.570068  5547.541992\n",
       "2019-02-20  3924.239990  6362.759277\n",
       "2019-02-21  3974.050049  6398.716309"
      ],
      "text/html": "<div>\n<style scoped>\n    .dataframe tbody tr th:only-of-type {\n        vertical-align: middle;\n    }\n\n    .dataframe tbody tr th {\n        vertical-align: top;\n    }\n\n    .dataframe thead th {\n        text-align: right;\n    }\n</style>\n<table border=\"1\" class=\"dataframe\">\n  <thead>\n    <tr style=\"text-align: right;\">\n      <th></th>\n      <th>Real</th>\n      <th>Predicted</th>\n    </tr>\n  </thead>\n  <tbody>\n    <tr>\n      <th>2019-02-17</th>\n      <td>3670.919922</td>\n      <td>5738.781250</td>\n    </tr>\n    <tr>\n      <th>2019-02-18</th>\n      <td>3670.919922</td>\n      <td>5660.113770</td>\n    </tr>\n    <tr>\n      <th>2019-02-19</th>\n      <td>3912.570068</td>\n      <td>5547.541992</td>\n    </tr>\n    <tr>\n      <th>2019-02-20</th>\n      <td>3924.239990</td>\n      <td>6362.759277</td>\n    </tr>\n    <tr>\n      <th>2019-02-21</th>\n      <td>3974.050049</td>\n      <td>6398.716309</td>\n    </tr>\n  </tbody>\n</table>\n</div>"
     },
     "metadata": {},
     "execution_count": 135
    }
   ],
   "source": [
    "# Create a DataFrame of Real and Predicted values\n",
    "stocks = pd.DataFrame({\n",
    "    \"Real\": real_prices.ravel(),\n",
    "    \"Predicted\": predicted_prices.ravel()\n",
    "}, index = df.index[-len(real_prices): ]) \n",
    "stocks.head()"
   ]
  },
  {
   "cell_type": "code",
   "execution_count": 136,
   "metadata": {},
   "outputs": [
    {
     "output_type": "execute_result",
     "data": {
      "text/plain": [
       "<matplotlib.axes._subplots.AxesSubplot at 0x7fea4afd6c10>"
      ]
     },
     "metadata": {},
     "execution_count": 136
    },
    {
     "output_type": "display_data",
     "data": {
      "text/plain": "<Figure size 432x288 with 1 Axes>",
      "image/svg+xml": "<?xml version=\"1.0\" encoding=\"utf-8\" standalone=\"no\"?>\n<!DOCTYPE svg PUBLIC \"-//W3C//DTD SVG 1.1//EN\"\n  \"http://www.w3.org/Graphics/SVG/1.1/DTD/svg11.dtd\">\n<!-- Created with matplotlib (https://matplotlib.org/) -->\n<svg height=\"263.215937pt\" version=\"1.1\" viewBox=\"0 0 391.5125 263.215937\" width=\"391.5125pt\" xmlns=\"http://www.w3.org/2000/svg\" xmlns:xlink=\"http://www.w3.org/1999/xlink\">\n <defs>\n  <style type=\"text/css\">\n*{stroke-linecap:butt;stroke-linejoin:round;}\n  </style>\n </defs>\n <g id=\"figure_1\">\n  <g id=\"patch_1\">\n   <path d=\"M 0 263.215937 \nL 391.5125 263.215937 \nL 391.5125 0 \nL 0 0 \nz\n\" style=\"fill:none;\"/>\n  </g>\n  <g id=\"axes_1\">\n   <g id=\"patch_2\">\n    <path d=\"M 46.0125 228.14 \nL 380.8125 228.14 \nL 380.8125 10.7 \nL 46.0125 10.7 \nz\n\" style=\"fill:#ffffff;\"/>\n   </g>\n   <g id=\"matplotlib.axis_1\">\n    <g id=\"xtick_1\">\n     <g id=\"line2d_1\">\n      <defs>\n       <path d=\"M 0 0 \nL 0 3.5 \n\" id=\"m808238711e\" style=\"stroke:#000000;stroke-width:0.8;\"/>\n      </defs>\n      <g>\n       <use style=\"stroke:#000000;stroke-width:0.8;\" x=\"46.0125\" xlink:href=\"#m808238711e\" y=\"228.14\"/>\n      </g>\n     </g>\n    </g>\n    <g id=\"xtick_2\">\n     <g id=\"line2d_2\">\n      <g>\n       <use style=\"stroke:#000000;stroke-width:0.8;\" x=\"70.8125\" xlink:href=\"#m808238711e\" y=\"228.14\"/>\n      </g>\n     </g>\n     <g id=\"text_1\">\n      <!-- Mar -->\n      <defs>\n       <path d=\"M 9.8125 72.90625 \nL 24.515625 72.90625 \nL 43.109375 23.296875 \nL 61.8125 72.90625 \nL 76.515625 72.90625 \nL 76.515625 0 \nL 66.890625 0 \nL 66.890625 64.015625 \nL 48.09375 14.015625 \nL 38.1875 14.015625 \nL 19.390625 64.015625 \nL 19.390625 0 \nL 9.8125 0 \nz\n\" id=\"DejaVuSans-77\"/>\n       <path d=\"M 34.28125 27.484375 \nQ 23.390625 27.484375 19.1875 25 \nQ 14.984375 22.515625 14.984375 16.5 \nQ 14.984375 11.71875 18.140625 8.90625 \nQ 21.296875 6.109375 26.703125 6.109375 \nQ 34.1875 6.109375 38.703125 11.40625 \nQ 43.21875 16.703125 43.21875 25.484375 \nL 43.21875 27.484375 \nz\nM 52.203125 31.203125 \nL 52.203125 0 \nL 43.21875 0 \nL 43.21875 8.296875 \nQ 40.140625 3.328125 35.546875 0.953125 \nQ 30.953125 -1.421875 24.3125 -1.421875 \nQ 15.921875 -1.421875 10.953125 3.296875 \nQ 6 8.015625 6 15.921875 \nQ 6 25.140625 12.171875 29.828125 \nQ 18.359375 34.515625 30.609375 34.515625 \nL 43.21875 34.515625 \nL 43.21875 35.40625 \nQ 43.21875 41.609375 39.140625 45 \nQ 35.0625 48.390625 27.6875 48.390625 \nQ 23 48.390625 18.546875 47.265625 \nQ 14.109375 46.140625 10.015625 43.890625 \nL 10.015625 52.203125 \nQ 14.9375 54.109375 19.578125 55.046875 \nQ 24.21875 56 28.609375 56 \nQ 40.484375 56 46.34375 49.84375 \nQ 52.203125 43.703125 52.203125 31.203125 \nz\n\" id=\"DejaVuSans-97\"/>\n       <path d=\"M 41.109375 46.296875 \nQ 39.59375 47.171875 37.8125 47.578125 \nQ 36.03125 48 33.890625 48 \nQ 26.265625 48 22.1875 43.046875 \nQ 18.109375 38.09375 18.109375 28.8125 \nL 18.109375 0 \nL 9.078125 0 \nL 9.078125 54.6875 \nL 18.109375 54.6875 \nL 18.109375 46.1875 \nQ 20.953125 51.171875 25.484375 53.578125 \nQ 30.03125 56 36.53125 56 \nQ 37.453125 56 38.578125 55.875 \nQ 39.703125 55.765625 41.0625 55.515625 \nz\n\" id=\"DejaVuSans-114\"/>\n      </defs>\n      <g transform=\"translate(61.378906 242.738438)scale(0.1 -0.1)\">\n       <use xlink:href=\"#DejaVuSans-77\"/>\n       <use x=\"86.279297\" xlink:href=\"#DejaVuSans-97\"/>\n       <use x=\"147.558594\" xlink:href=\"#DejaVuSans-114\"/>\n      </g>\n      <!-- 2019 -->\n      <defs>\n       <path d=\"M 19.1875 8.296875 \nL 53.609375 8.296875 \nL 53.609375 0 \nL 7.328125 0 \nL 7.328125 8.296875 \nQ 12.9375 14.109375 22.625 23.890625 \nQ 32.328125 33.6875 34.8125 36.53125 \nQ 39.546875 41.84375 41.421875 45.53125 \nQ 43.3125 49.21875 43.3125 52.78125 \nQ 43.3125 58.59375 39.234375 62.25 \nQ 35.15625 65.921875 28.609375 65.921875 \nQ 23.96875 65.921875 18.8125 64.3125 \nQ 13.671875 62.703125 7.8125 59.421875 \nL 7.8125 69.390625 \nQ 13.765625 71.78125 18.9375 73 \nQ 24.125 74.21875 28.421875 74.21875 \nQ 39.75 74.21875 46.484375 68.546875 \nQ 53.21875 62.890625 53.21875 53.421875 \nQ 53.21875 48.921875 51.53125 44.890625 \nQ 49.859375 40.875 45.40625 35.40625 \nQ 44.1875 33.984375 37.640625 27.21875 \nQ 31.109375 20.453125 19.1875 8.296875 \nz\n\" id=\"DejaVuSans-50\"/>\n       <path d=\"M 31.78125 66.40625 \nQ 24.171875 66.40625 20.328125 58.90625 \nQ 16.5 51.421875 16.5 36.375 \nQ 16.5 21.390625 20.328125 13.890625 \nQ 24.171875 6.390625 31.78125 6.390625 \nQ 39.453125 6.390625 43.28125 13.890625 \nQ 47.125 21.390625 47.125 36.375 \nQ 47.125 51.421875 43.28125 58.90625 \nQ 39.453125 66.40625 31.78125 66.40625 \nz\nM 31.78125 74.21875 \nQ 44.046875 74.21875 50.515625 64.515625 \nQ 56.984375 54.828125 56.984375 36.375 \nQ 56.984375 17.96875 50.515625 8.265625 \nQ 44.046875 -1.421875 31.78125 -1.421875 \nQ 19.53125 -1.421875 13.0625 8.265625 \nQ 6.59375 17.96875 6.59375 36.375 \nQ 6.59375 54.828125 13.0625 64.515625 \nQ 19.53125 74.21875 31.78125 74.21875 \nz\n\" id=\"DejaVuSans-48\"/>\n       <path d=\"M 12.40625 8.296875 \nL 28.515625 8.296875 \nL 28.515625 63.921875 \nL 10.984375 60.40625 \nL 10.984375 69.390625 \nL 28.421875 72.90625 \nL 38.28125 72.90625 \nL 38.28125 8.296875 \nL 54.390625 8.296875 \nL 54.390625 0 \nL 12.40625 0 \nz\n\" id=\"DejaVuSans-49\"/>\n       <path d=\"M 10.984375 1.515625 \nL 10.984375 10.5 \nQ 14.703125 8.734375 18.5 7.8125 \nQ 22.3125 6.890625 25.984375 6.890625 \nQ 35.75 6.890625 40.890625 13.453125 \nQ 46.046875 20.015625 46.78125 33.40625 \nQ 43.953125 29.203125 39.59375 26.953125 \nQ 35.25 24.703125 29.984375 24.703125 \nQ 19.046875 24.703125 12.671875 31.3125 \nQ 6.296875 37.9375 6.296875 49.421875 \nQ 6.296875 60.640625 12.9375 67.421875 \nQ 19.578125 74.21875 30.609375 74.21875 \nQ 43.265625 74.21875 49.921875 64.515625 \nQ 56.59375 54.828125 56.59375 36.375 \nQ 56.59375 19.140625 48.40625 8.859375 \nQ 40.234375 -1.421875 26.421875 -1.421875 \nQ 22.703125 -1.421875 18.890625 -0.6875 \nQ 15.09375 0.046875 10.984375 1.515625 \nz\nM 30.609375 32.421875 \nQ 37.25 32.421875 41.125 36.953125 \nQ 45.015625 41.5 45.015625 49.421875 \nQ 45.015625 57.28125 41.125 61.84375 \nQ 37.25 66.40625 30.609375 66.40625 \nQ 23.96875 66.40625 20.09375 61.84375 \nQ 16.21875 57.28125 16.21875 49.421875 \nQ 16.21875 41.5 20.09375 36.953125 \nQ 23.96875 32.421875 30.609375 32.421875 \nz\n\" id=\"DejaVuSans-57\"/>\n      </defs>\n      <g transform=\"translate(58.0875 253.93625)scale(0.1 -0.1)\">\n       <use xlink:href=\"#DejaVuSans-50\"/>\n       <use x=\"63.623047\" xlink:href=\"#DejaVuSans-48\"/>\n       <use x=\"127.246094\" xlink:href=\"#DejaVuSans-49\"/>\n       <use x=\"190.869141\" xlink:href=\"#DejaVuSans-57\"/>\n      </g>\n     </g>\n    </g>\n    <g id=\"xtick_3\">\n     <g id=\"line2d_3\">\n      <g>\n       <use style=\"stroke:#000000;stroke-width:0.8;\" x=\"134.879167\" xlink:href=\"#m808238711e\" y=\"228.14\"/>\n      </g>\n     </g>\n     <g id=\"text_2\">\n      <!-- Apr -->\n      <defs>\n       <path d=\"M 34.1875 63.1875 \nL 20.796875 26.90625 \nL 47.609375 26.90625 \nz\nM 28.609375 72.90625 \nL 39.796875 72.90625 \nL 67.578125 0 \nL 57.328125 0 \nL 50.6875 18.703125 \nL 17.828125 18.703125 \nL 11.1875 0 \nL 0.78125 0 \nz\n\" id=\"DejaVuSans-65\"/>\n       <path d=\"M 18.109375 8.203125 \nL 18.109375 -20.796875 \nL 9.078125 -20.796875 \nL 9.078125 54.6875 \nL 18.109375 54.6875 \nL 18.109375 46.390625 \nQ 20.953125 51.265625 25.265625 53.625 \nQ 29.59375 56 35.59375 56 \nQ 45.5625 56 51.78125 48.09375 \nQ 58.015625 40.1875 58.015625 27.296875 \nQ 58.015625 14.40625 51.78125 6.484375 \nQ 45.5625 -1.421875 35.59375 -1.421875 \nQ 29.59375 -1.421875 25.265625 0.953125 \nQ 20.953125 3.328125 18.109375 8.203125 \nz\nM 48.6875 27.296875 \nQ 48.6875 37.203125 44.609375 42.84375 \nQ 40.53125 48.484375 33.40625 48.484375 \nQ 26.265625 48.484375 22.1875 42.84375 \nQ 18.109375 37.203125 18.109375 27.296875 \nQ 18.109375 17.390625 22.1875 11.75 \nQ 26.265625 6.109375 33.40625 6.109375 \nQ 40.53125 6.109375 44.609375 11.75 \nQ 48.6875 17.390625 48.6875 27.296875 \nz\n\" id=\"DejaVuSans-112\"/>\n      </defs>\n      <g transform=\"translate(126.229167 242.738438)scale(0.1 -0.1)\">\n       <use xlink:href=\"#DejaVuSans-65\"/>\n       <use x=\"68.408203\" xlink:href=\"#DejaVuSans-112\"/>\n       <use x=\"131.884766\" xlink:href=\"#DejaVuSans-114\"/>\n      </g>\n     </g>\n    </g>\n    <g id=\"xtick_4\">\n     <g id=\"line2d_4\">\n      <g>\n       <use style=\"stroke:#000000;stroke-width:0.8;\" x=\"196.879167\" xlink:href=\"#m808238711e\" y=\"228.14\"/>\n      </g>\n     </g>\n     <g id=\"text_3\">\n      <!-- May -->\n      <defs>\n       <path d=\"M 32.171875 -5.078125 \nQ 28.375 -14.84375 24.75 -17.8125 \nQ 21.140625 -20.796875 15.09375 -20.796875 \nL 7.90625 -20.796875 \nL 7.90625 -13.28125 \nL 13.1875 -13.28125 \nQ 16.890625 -13.28125 18.9375 -11.515625 \nQ 21 -9.765625 23.484375 -3.21875 \nL 25.09375 0.875 \nL 2.984375 54.6875 \nL 12.5 54.6875 \nL 29.59375 11.921875 \nL 46.6875 54.6875 \nL 56.203125 54.6875 \nz\n\" id=\"DejaVuSans-121\"/>\n      </defs>\n      <g transform=\"translate(186.541667 242.738438)scale(0.1 -0.1)\">\n       <use xlink:href=\"#DejaVuSans-77\"/>\n       <use x=\"86.279297\" xlink:href=\"#DejaVuSans-97\"/>\n       <use x=\"147.558594\" xlink:href=\"#DejaVuSans-121\"/>\n      </g>\n     </g>\n    </g>\n    <g id=\"xtick_5\">\n     <g id=\"line2d_5\">\n      <g>\n       <use style=\"stroke:#000000;stroke-width:0.8;\" x=\"260.945833\" xlink:href=\"#m808238711e\" y=\"228.14\"/>\n      </g>\n     </g>\n     <g id=\"text_4\">\n      <!-- Jun -->\n      <defs>\n       <path d=\"M 9.8125 72.90625 \nL 19.671875 72.90625 \nL 19.671875 5.078125 \nQ 19.671875 -8.109375 14.671875 -14.0625 \nQ 9.671875 -20.015625 -1.421875 -20.015625 \nL -5.171875 -20.015625 \nL -5.171875 -11.71875 \nL -2.09375 -11.71875 \nQ 4.4375 -11.71875 7.125 -8.046875 \nQ 9.8125 -4.390625 9.8125 5.078125 \nz\n\" id=\"DejaVuSans-74\"/>\n       <path d=\"M 8.5 21.578125 \nL 8.5 54.6875 \nL 17.484375 54.6875 \nL 17.484375 21.921875 \nQ 17.484375 14.15625 20.5 10.265625 \nQ 23.53125 6.390625 29.59375 6.390625 \nQ 36.859375 6.390625 41.078125 11.03125 \nQ 45.3125 15.671875 45.3125 23.6875 \nL 45.3125 54.6875 \nL 54.296875 54.6875 \nL 54.296875 0 \nL 45.3125 0 \nL 45.3125 8.40625 \nQ 42.046875 3.421875 37.71875 1 \nQ 33.40625 -1.421875 27.6875 -1.421875 \nQ 18.265625 -1.421875 13.375 4.4375 \nQ 8.5 10.296875 8.5 21.578125 \nz\nM 31.109375 56 \nz\n\" id=\"DejaVuSans-117\"/>\n       <path d=\"M 54.890625 33.015625 \nL 54.890625 0 \nL 45.90625 0 \nL 45.90625 32.71875 \nQ 45.90625 40.484375 42.875 44.328125 \nQ 39.84375 48.1875 33.796875 48.1875 \nQ 26.515625 48.1875 22.3125 43.546875 \nQ 18.109375 38.921875 18.109375 30.90625 \nL 18.109375 0 \nL 9.078125 0 \nL 9.078125 54.6875 \nL 18.109375 54.6875 \nL 18.109375 46.1875 \nQ 21.34375 51.125 25.703125 53.5625 \nQ 30.078125 56 35.796875 56 \nQ 45.21875 56 50.046875 50.171875 \nQ 54.890625 44.34375 54.890625 33.015625 \nz\n\" id=\"DejaVuSans-110\"/>\n      </defs>\n      <g transform=\"translate(253.133333 242.738438)scale(0.1 -0.1)\">\n       <use xlink:href=\"#DejaVuSans-74\"/>\n       <use x=\"29.492188\" xlink:href=\"#DejaVuSans-117\"/>\n       <use x=\"92.871094\" xlink:href=\"#DejaVuSans-110\"/>\n      </g>\n     </g>\n    </g>\n    <g id=\"xtick_6\">\n     <g id=\"line2d_6\">\n      <g>\n       <use style=\"stroke:#000000;stroke-width:0.8;\" x=\"322.945833\" xlink:href=\"#m808238711e\" y=\"228.14\"/>\n      </g>\n     </g>\n     <g id=\"text_5\">\n      <!-- Jul -->\n      <defs>\n       <path d=\"M 9.421875 75.984375 \nL 18.40625 75.984375 \nL 18.40625 0 \nL 9.421875 0 \nz\n\" id=\"DejaVuSans-108\"/>\n      </defs>\n      <g transform=\"translate(316.913021 242.738438)scale(0.1 -0.1)\">\n       <use xlink:href=\"#DejaVuSans-74\"/>\n       <use x=\"29.492188\" xlink:href=\"#DejaVuSans-117\"/>\n       <use x=\"92.871094\" xlink:href=\"#DejaVuSans-108\"/>\n      </g>\n     </g>\n    </g>\n    <g id=\"xtick_7\">\n     <g id=\"line2d_7\">\n      <g>\n       <use style=\"stroke:#000000;stroke-width:0.8;\" x=\"380.8125\" xlink:href=\"#m808238711e\" y=\"228.14\"/>\n      </g>\n     </g>\n    </g>\n    <g id=\"xtick_8\">\n     <g id=\"line2d_8\">\n      <defs>\n       <path d=\"M 0 0 \nL 0 2 \n\" id=\"mc937523480\" style=\"stroke:#000000;stroke-width:0.6;\"/>\n      </defs>\n      <g>\n       <use style=\"stroke:#000000;stroke-width:0.6;\" x=\"48.079167\" xlink:href=\"#mc937523480\" y=\"228.14\"/>\n      </g>\n     </g>\n    </g>\n    <g id=\"xtick_9\">\n     <g id=\"line2d_9\">\n      <g>\n       <use style=\"stroke:#000000;stroke-width:0.6;\" x=\"62.545833\" xlink:href=\"#mc937523480\" y=\"228.14\"/>\n      </g>\n     </g>\n    </g>\n    <g id=\"xtick_10\">\n     <g id=\"line2d_10\">\n      <g>\n       <use style=\"stroke:#000000;stroke-width:0.6;\" x=\"77.0125\" xlink:href=\"#mc937523480\" y=\"228.14\"/>\n      </g>\n     </g>\n    </g>\n    <g id=\"xtick_11\">\n     <g id=\"line2d_11\">\n      <g>\n       <use style=\"stroke:#000000;stroke-width:0.6;\" x=\"91.479167\" xlink:href=\"#mc937523480\" y=\"228.14\"/>\n      </g>\n     </g>\n    </g>\n    <g id=\"xtick_12\">\n     <g id=\"line2d_12\">\n      <g>\n       <use style=\"stroke:#000000;stroke-width:0.6;\" x=\"105.945833\" xlink:href=\"#mc937523480\" y=\"228.14\"/>\n      </g>\n     </g>\n    </g>\n    <g id=\"xtick_13\">\n     <g id=\"line2d_13\">\n      <g>\n       <use style=\"stroke:#000000;stroke-width:0.6;\" x=\"120.4125\" xlink:href=\"#mc937523480\" y=\"228.14\"/>\n      </g>\n     </g>\n    </g>\n    <g id=\"xtick_14\">\n     <g id=\"line2d_14\">\n      <g>\n       <use style=\"stroke:#000000;stroke-width:0.6;\" x=\"149.345833\" xlink:href=\"#mc937523480\" y=\"228.14\"/>\n      </g>\n     </g>\n    </g>\n    <g id=\"xtick_15\">\n     <g id=\"line2d_15\">\n      <g>\n       <use style=\"stroke:#000000;stroke-width:0.6;\" x=\"163.8125\" xlink:href=\"#mc937523480\" y=\"228.14\"/>\n      </g>\n     </g>\n    </g>\n    <g id=\"xtick_16\">\n     <g id=\"line2d_16\">\n      <g>\n       <use style=\"stroke:#000000;stroke-width:0.6;\" x=\"178.279167\" xlink:href=\"#mc937523480\" y=\"228.14\"/>\n      </g>\n     </g>\n    </g>\n    <g id=\"xtick_17\">\n     <g id=\"line2d_17\">\n      <g>\n       <use style=\"stroke:#000000;stroke-width:0.6;\" x=\"192.745833\" xlink:href=\"#mc937523480\" y=\"228.14\"/>\n      </g>\n     </g>\n    </g>\n    <g id=\"xtick_18\">\n     <g id=\"line2d_18\">\n      <g>\n       <use style=\"stroke:#000000;stroke-width:0.6;\" x=\"207.2125\" xlink:href=\"#mc937523480\" y=\"228.14\"/>\n      </g>\n     </g>\n    </g>\n    <g id=\"xtick_19\">\n     <g id=\"line2d_19\">\n      <g>\n       <use style=\"stroke:#000000;stroke-width:0.6;\" x=\"221.679167\" xlink:href=\"#mc937523480\" y=\"228.14\"/>\n      </g>\n     </g>\n    </g>\n    <g id=\"xtick_20\">\n     <g id=\"line2d_20\">\n      <g>\n       <use style=\"stroke:#000000;stroke-width:0.6;\" x=\"236.145833\" xlink:href=\"#mc937523480\" y=\"228.14\"/>\n      </g>\n     </g>\n    </g>\n    <g id=\"xtick_21\">\n     <g id=\"line2d_21\">\n      <g>\n       <use style=\"stroke:#000000;stroke-width:0.6;\" x=\"250.6125\" xlink:href=\"#mc937523480\" y=\"228.14\"/>\n      </g>\n     </g>\n    </g>\n    <g id=\"xtick_22\">\n     <g id=\"line2d_22\">\n      <g>\n       <use style=\"stroke:#000000;stroke-width:0.6;\" x=\"265.079167\" xlink:href=\"#mc937523480\" y=\"228.14\"/>\n      </g>\n     </g>\n    </g>\n    <g id=\"xtick_23\">\n     <g id=\"line2d_23\">\n      <g>\n       <use style=\"stroke:#000000;stroke-width:0.6;\" x=\"279.545833\" xlink:href=\"#mc937523480\" y=\"228.14\"/>\n      </g>\n     </g>\n    </g>\n    <g id=\"xtick_24\">\n     <g id=\"line2d_24\">\n      <g>\n       <use style=\"stroke:#000000;stroke-width:0.6;\" x=\"294.0125\" xlink:href=\"#mc937523480\" y=\"228.14\"/>\n      </g>\n     </g>\n    </g>\n    <g id=\"xtick_25\">\n     <g id=\"line2d_25\">\n      <g>\n       <use style=\"stroke:#000000;stroke-width:0.6;\" x=\"308.479167\" xlink:href=\"#mc937523480\" y=\"228.14\"/>\n      </g>\n     </g>\n    </g>\n    <g id=\"xtick_26\">\n     <g id=\"line2d_26\">\n      <g>\n       <use style=\"stroke:#000000;stroke-width:0.6;\" x=\"337.4125\" xlink:href=\"#mc937523480\" y=\"228.14\"/>\n      </g>\n     </g>\n    </g>\n    <g id=\"xtick_27\">\n     <g id=\"line2d_27\">\n      <g>\n       <use style=\"stroke:#000000;stroke-width:0.6;\" x=\"351.879167\" xlink:href=\"#mc937523480\" y=\"228.14\"/>\n      </g>\n     </g>\n    </g>\n    <g id=\"xtick_28\">\n     <g id=\"line2d_28\">\n      <g>\n       <use style=\"stroke:#000000;stroke-width:0.6;\" x=\"366.345833\" xlink:href=\"#mc937523480\" y=\"228.14\"/>\n      </g>\n     </g>\n    </g>\n    <g id=\"xtick_29\">\n     <g id=\"line2d_29\">\n      <g>\n       <use style=\"stroke:#000000;stroke-width:0.6;\" x=\"380.8125\" xlink:href=\"#mc937523480\" y=\"228.14\"/>\n      </g>\n     </g>\n    </g>\n   </g>\n   <g id=\"matplotlib.axis_2\">\n    <g id=\"ytick_1\">\n     <g id=\"line2d_30\">\n      <defs>\n       <path d=\"M 0 0 \nL -3.5 0 \n\" id=\"m8776be2c3c\" style=\"stroke:#000000;stroke-width:0.8;\"/>\n      </defs>\n      <g>\n       <use style=\"stroke:#000000;stroke-width:0.8;\" x=\"46.0125\" xlink:href=\"#m8776be2c3c\" y=\"211.218101\"/>\n      </g>\n     </g>\n     <g id=\"text_6\">\n      <!-- 4000 -->\n      <defs>\n       <path d=\"M 37.796875 64.3125 \nL 12.890625 25.390625 \nL 37.796875 25.390625 \nz\nM 35.203125 72.90625 \nL 47.609375 72.90625 \nL 47.609375 25.390625 \nL 58.015625 25.390625 \nL 58.015625 17.1875 \nL 47.609375 17.1875 \nL 47.609375 0 \nL 37.796875 0 \nL 37.796875 17.1875 \nL 4.890625 17.1875 \nL 4.890625 26.703125 \nz\n\" id=\"DejaVuSans-52\"/>\n      </defs>\n      <g transform=\"translate(13.5625 215.01732)scale(0.1 -0.1)\">\n       <use xlink:href=\"#DejaVuSans-52\"/>\n       <use x=\"63.623047\" xlink:href=\"#DejaVuSans-48\"/>\n       <use x=\"127.246094\" xlink:href=\"#DejaVuSans-48\"/>\n       <use x=\"190.869141\" xlink:href=\"#DejaVuSans-48\"/>\n      </g>\n     </g>\n    </g>\n    <g id=\"ytick_2\">\n     <g id=\"line2d_31\">\n      <g>\n       <use style=\"stroke:#000000;stroke-width:0.8;\" x=\"46.0125\" xlink:href=\"#m8776be2c3c\" y=\"168.442724\"/>\n      </g>\n     </g>\n     <g id=\"text_7\">\n      <!-- 6000 -->\n      <defs>\n       <path d=\"M 33.015625 40.375 \nQ 26.375 40.375 22.484375 35.828125 \nQ 18.609375 31.296875 18.609375 23.390625 \nQ 18.609375 15.53125 22.484375 10.953125 \nQ 26.375 6.390625 33.015625 6.390625 \nQ 39.65625 6.390625 43.53125 10.953125 \nQ 47.40625 15.53125 47.40625 23.390625 \nQ 47.40625 31.296875 43.53125 35.828125 \nQ 39.65625 40.375 33.015625 40.375 \nz\nM 52.59375 71.296875 \nL 52.59375 62.3125 \nQ 48.875 64.0625 45.09375 64.984375 \nQ 41.3125 65.921875 37.59375 65.921875 \nQ 27.828125 65.921875 22.671875 59.328125 \nQ 17.53125 52.734375 16.796875 39.40625 \nQ 19.671875 43.65625 24.015625 45.921875 \nQ 28.375 48.1875 33.59375 48.1875 \nQ 44.578125 48.1875 50.953125 41.515625 \nQ 57.328125 34.859375 57.328125 23.390625 \nQ 57.328125 12.15625 50.6875 5.359375 \nQ 44.046875 -1.421875 33.015625 -1.421875 \nQ 20.359375 -1.421875 13.671875 8.265625 \nQ 6.984375 17.96875 6.984375 36.375 \nQ 6.984375 53.65625 15.1875 63.9375 \nQ 23.390625 74.21875 37.203125 74.21875 \nQ 40.921875 74.21875 44.703125 73.484375 \nQ 48.484375 72.75 52.59375 71.296875 \nz\n\" id=\"DejaVuSans-54\"/>\n      </defs>\n      <g transform=\"translate(13.5625 172.241942)scale(0.1 -0.1)\">\n       <use xlink:href=\"#DejaVuSans-54\"/>\n       <use x=\"63.623047\" xlink:href=\"#DejaVuSans-48\"/>\n       <use x=\"127.246094\" xlink:href=\"#DejaVuSans-48\"/>\n       <use x=\"190.869141\" xlink:href=\"#DejaVuSans-48\"/>\n      </g>\n     </g>\n    </g>\n    <g id=\"ytick_3\">\n     <g id=\"line2d_32\">\n      <g>\n       <use style=\"stroke:#000000;stroke-width:0.8;\" x=\"46.0125\" xlink:href=\"#m8776be2c3c\" y=\"125.667346\"/>\n      </g>\n     </g>\n     <g id=\"text_8\">\n      <!-- 8000 -->\n      <defs>\n       <path d=\"M 31.78125 34.625 \nQ 24.75 34.625 20.71875 30.859375 \nQ 16.703125 27.09375 16.703125 20.515625 \nQ 16.703125 13.921875 20.71875 10.15625 \nQ 24.75 6.390625 31.78125 6.390625 \nQ 38.8125 6.390625 42.859375 10.171875 \nQ 46.921875 13.96875 46.921875 20.515625 \nQ 46.921875 27.09375 42.890625 30.859375 \nQ 38.875 34.625 31.78125 34.625 \nz\nM 21.921875 38.8125 \nQ 15.578125 40.375 12.03125 44.71875 \nQ 8.5 49.078125 8.5 55.328125 \nQ 8.5 64.0625 14.71875 69.140625 \nQ 20.953125 74.21875 31.78125 74.21875 \nQ 42.671875 74.21875 48.875 69.140625 \nQ 55.078125 64.0625 55.078125 55.328125 \nQ 55.078125 49.078125 51.53125 44.71875 \nQ 48 40.375 41.703125 38.8125 \nQ 48.828125 37.15625 52.796875 32.3125 \nQ 56.78125 27.484375 56.78125 20.515625 \nQ 56.78125 9.90625 50.3125 4.234375 \nQ 43.84375 -1.421875 31.78125 -1.421875 \nQ 19.734375 -1.421875 13.25 4.234375 \nQ 6.78125 9.90625 6.78125 20.515625 \nQ 6.78125 27.484375 10.78125 32.3125 \nQ 14.796875 37.15625 21.921875 38.8125 \nz\nM 18.3125 54.390625 \nQ 18.3125 48.734375 21.84375 45.5625 \nQ 25.390625 42.390625 31.78125 42.390625 \nQ 38.140625 42.390625 41.71875 45.5625 \nQ 45.3125 48.734375 45.3125 54.390625 \nQ 45.3125 60.0625 41.71875 63.234375 \nQ 38.140625 66.40625 31.78125 66.40625 \nQ 25.390625 66.40625 21.84375 63.234375 \nQ 18.3125 60.0625 18.3125 54.390625 \nz\n\" id=\"DejaVuSans-56\"/>\n      </defs>\n      <g transform=\"translate(13.5625 129.466565)scale(0.1 -0.1)\">\n       <use xlink:href=\"#DejaVuSans-56\"/>\n       <use x=\"63.623047\" xlink:href=\"#DejaVuSans-48\"/>\n       <use x=\"127.246094\" xlink:href=\"#DejaVuSans-48\"/>\n       <use x=\"190.869141\" xlink:href=\"#DejaVuSans-48\"/>\n      </g>\n     </g>\n    </g>\n    <g id=\"ytick_4\">\n     <g id=\"line2d_33\">\n      <g>\n       <use style=\"stroke:#000000;stroke-width:0.8;\" x=\"46.0125\" xlink:href=\"#m8776be2c3c\" y=\"82.891968\"/>\n      </g>\n     </g>\n     <g id=\"text_9\">\n      <!-- 10000 -->\n      <g transform=\"translate(7.2 86.691187)scale(0.1 -0.1)\">\n       <use xlink:href=\"#DejaVuSans-49\"/>\n       <use x=\"63.623047\" xlink:href=\"#DejaVuSans-48\"/>\n       <use x=\"127.246094\" xlink:href=\"#DejaVuSans-48\"/>\n       <use x=\"190.869141\" xlink:href=\"#DejaVuSans-48\"/>\n       <use x=\"254.492188\" xlink:href=\"#DejaVuSans-48\"/>\n      </g>\n     </g>\n    </g>\n    <g id=\"ytick_5\">\n     <g id=\"line2d_34\">\n      <g>\n       <use style=\"stroke:#000000;stroke-width:0.8;\" x=\"46.0125\" xlink:href=\"#m8776be2c3c\" y=\"40.116591\"/>\n      </g>\n     </g>\n     <g id=\"text_10\">\n      <!-- 12000 -->\n      <g transform=\"translate(7.2 43.915809)scale(0.1 -0.1)\">\n       <use xlink:href=\"#DejaVuSans-49\"/>\n       <use x=\"63.623047\" xlink:href=\"#DejaVuSans-50\"/>\n       <use x=\"127.246094\" xlink:href=\"#DejaVuSans-48\"/>\n       <use x=\"190.869141\" xlink:href=\"#DejaVuSans-48\"/>\n       <use x=\"254.492188\" xlink:href=\"#DejaVuSans-48\"/>\n      </g>\n     </g>\n    </g>\n   </g>\n   <g id=\"line2d_35\">\n    <path clip-path=\"url(#p6601d6e638)\" d=\"M 46.0125 218.256364 \nL 48.079167 218.256364 \nL 50.145833 213.088026 \nL 52.2125 212.838433 \nL 54.279167 211.773111 \nL 56.345833 212.564669 \nL 58.4125 211.570356 \nL 60.479167 208.029414 \nL 62.545833 216.102619 \nL 64.6125 214.522285 \nL 66.679167 215.11323 \nL 68.745833 214.83861 \nL 70.8125 214.995806 \nL 74.945833 214.577253 \nL 77.0125 215.232355 \nL 79.079167 216.9654 \nL 81.145833 213.909102 \nL 83.2125 213.891991 \nL 85.279167 213.7288 \nL 87.345833 214.040848 \nL 89.4125 212.335822 \nL 91.479167 212.71866 \nL 93.545833 213.893917 \nL 95.6125 213.60133 \nL 97.679167 213.81799 \nL 99.745833 213.753827 \nL 101.8125 212.77769 \nL 103.879167 210.64042 \nL 105.945833 211.260877 \nL 108.0125 211.456572 \nL 112.145833 210.00435 \nL 114.2125 211.283763 \nL 118.345833 211.063897 \nL 120.4125 211.344073 \nL 122.479167 212.831801 \nL 124.545833 212.453883 \nL 126.6125 210.234696 \nL 128.679167 210.438521 \nL 130.745833 208.835943 \nL 132.8125 208.691576 \nL 134.879167 208.807924 \nL 136.945833 207.98172 \nL 139.0125 191.820961 \nL 141.079167 190.331102 \nL 143.145833 191.683445 \nL 145.2125 188.820272 \nL 147.279167 188.605967 \nL 149.345833 185.528062 \nL 151.4125 183.54051 \nL 153.479167 185.525075 \nL 155.545833 183.016293 \nL 157.6125 188.791825 \nL 159.679167 188.087316 \nL 161.745833 188.105278 \nL 163.8125 186.288828 \nL 165.879167 189.033293 \nL 167.945833 185.278897 \nL 170.0125 184.777362 \nL 172.079167 183.63333 \nL 174.145833 183.509713 \nL 176.2125 182.854172 \nL 178.279167 183.291336 \nL 180.345833 181.389335 \nL 182.4125 178.300307 \nL 184.479167 180.107995 \nL 186.545833 186.351279 \nL 188.6125 184.823772 \nL 190.679167 184.922366 \nL 192.745833 184.003333 \nL 194.8125 184.740999 \nL 196.879167 182.33103 \nL 198.945833 181.499051 \nL 201.0125 179.121164 \nL 203.079167 173.717358 \nL 205.145833 171.863041 \nL 209.279167 173.828787 \nL 211.345833 172.301708 \nL 217.545833 160.779728 \nL 219.6125 142.96229 \nL 221.679167 147.53348 \nL 223.745833 129.808861 \nL 225.8125 126.092322 \nL 227.879167 121.735645 \nL 229.945833 128.359845 \nL 232.0125 139.099671 \nL 234.079167 141.364197 \nL 236.145833 121.536535 \nL 238.2125 125.703918 \nL 240.279167 126.780999 \nL 242.345833 133.647304 \nL 244.4125 128.308726 \nL 246.479167 125.744344 \nL 248.545833 124.402694 \nL 250.6125 110.134955 \nL 252.679167 108.874376 \nL 254.745833 110.292814 \nL 256.8125 111.453953 \nL 258.879167 119.758997 \nL 260.945833 113.889789 \nL 263.0125 113.778569 \nL 265.079167 109.885153 \nL 267.145833 123.218664 \nL 269.2125 132.565513 \nL 271.279167 130.13117 \nL 273.345833 129.787473 \nL 275.4125 125.611099 \nL 277.479167 127.083643 \nL 279.545833 133.293342 \nL 281.6125 125.218205 \nL 283.679167 127.435684 \nL 285.745833 121.942891 \nL 287.8125 120.629041 \nL 289.879167 110.825146 \nL 291.945833 107.41168 \nL 294.0125 104.724956 \nL 296.079167 97.093185 \nL 298.145833 102.53207 \nL 300.2125 98.279554 \nL 302.279167 92.797685 \nL 304.345833 78.210842 \nL 306.4125 68.144301 \nL 308.479167 64.584316 \nL 310.545833 60.739878 \nL 312.6125 45.670121 \nL 314.679167 20.583636 \nL 316.745833 58.208654 \nL 318.8125 32.522687 \nL 320.879167 42.595432 \nL 322.945833 66.44377 \nL 325.0125 70.233234 \nL 327.079167 64.837981 \nL 329.145833 40.509903 \nL 331.2125 58.156688 \nL 333.279167 61.648646 \nL 335.345833 56.180019 \nL 337.4125 51.360521 \nL 339.479167 33.782409 \nL 341.545833 27.989353 \nL 343.6125 37.99664 \nL 345.679167 54.165733 \nL 347.745833 44.450376 \nL 349.8125 53.719808 \nL 351.879167 78.520108 \nL 353.945833 64.706877 \nL 356.0125 95.223245 \nL 358.079167 89.390609 \nL 360.145833 69.239146 \nL 362.2125 71.493604 \nL 364.279167 66.649731 \nL 366.345833 70.343598 \nL 368.4125 75.92236 \nL 370.479167 86.011354 \nL 372.545833 87.765375 \nL 374.6125 85.406526 \nL 376.679167 86.154656 \nL 378.745833 94.049491 \nL 380.8125 92.906336 \nL 380.8125 92.906336 \n\" style=\"fill:none;stroke:#1f77b4;stroke-linecap:square;stroke-width:1.5;\"/>\n   </g>\n   <g id=\"line2d_36\">\n    <path clip-path=\"url(#p6601d6e638)\" d=\"M 46.0125 174.029589 \nL 48.079167 175.712105 \nL 50.145833 178.119755 \nL 52.2125 160.684141 \nL 54.279167 159.915103 \nL 56.345833 162.521864 \nL 58.4125 162.521864 \nL 62.545833 160.684141 \nL 64.6125 158.635424 \nL 66.679167 170.668777 \nL 68.745833 176.535698 \nL 70.8125 177.340107 \nL 72.879167 177.340107 \nL 74.945833 174.874914 \nL 77.0125 175.712105 \nL 79.079167 173.181486 \nL 81.145833 179.583652 \nL 83.2125 180.258325 \nL 85.279167 174.874914 \nL 87.345833 164.188422 \nL 89.4125 165.443455 \nL 91.479167 164.801511 \nL 93.545833 164.801511 \nL 95.6125 164.188422 \nL 97.679167 164.188422 \nL 99.745833 165.443455 \nL 101.8125 164.801511 \nL 103.879167 164.801511 \nL 105.945833 165.443455 \nL 108.0125 163.048891 \nL 110.079167 164.188422 \nL 112.145833 164.188422 \nL 114.2125 164.801511 \nL 116.279167 161.104658 \nL 118.345833 164.188422 \nL 120.4125 168.287444 \nL 122.479167 173.181486 \nL 124.545833 171.496631 \nL 126.6125 174.029589 \nL 128.679167 173.181486 \nL 130.745833 169.061118 \nL 132.8125 168.287444 \nL 134.879167 163.604281 \nL 136.945833 164.188422 \nL 139.0125 161.104658 \nL 141.079167 162.022657 \nL 143.145833 158.107812 \nL 145.2125 161.55053 \nL 147.279167 162.521864 \nL 149.345833 159.915103 \nL 151.4125 158.635424 \nL 153.479167 159.915103 \nL 155.545833 160.287968 \nL 157.6125 161.104658 \nL 159.679167 159.915103 \nL 161.745833 174.874914 \nL 163.8125 161.104658 \nL 165.879167 167.537151 \nL 167.945833 162.022657 \nL 170.0125 168.287444 \nL 172.079167 161.55053 \nL 174.145833 160.287968 \nL 176.2125 161.55053 \nL 178.279167 161.104658 \nL 180.345833 161.104658 \nL 182.4125 161.55053 \nL 184.479167 158.925714 \nL 186.545833 159.915103 \nL 188.6125 163.048891 \nL 190.679167 175.712105 \nL 192.745833 174.874914 \nL 194.8125 176.535698 \nL 196.879167 174.874914 \nL 198.945833 174.874914 \nL 201.0125 167.537151 \nL 203.079167 168.287444 \nL 205.145833 160.684141 \nL 207.2125 159.564483 \nL 209.279167 159.235042 \nL 211.345833 163.604281 \nL 213.4125 158.635424 \nL 215.479167 160.684141 \nL 217.545833 158.635424 \nL 219.6125 158.107812 \nL 221.679167 157.052599 \nL 223.745833 157.237089 \nL 225.8125 156.717769 \nL 227.879167 156.717769 \nL 229.945833 156.879733 \nL 232.0125 157.237089 \nL 234.079167 159.915103 \nL 236.145833 159.235042 \nL 238.2125 158.363138 \nL 240.279167 157.644176 \nL 242.345833 158.925714 \nL 244.4125 158.635424 \nL 246.479167 159.915103 \nL 248.545833 160.287968 \nL 250.6125 158.635424 \nL 252.679167 159.235042 \nL 254.745833 158.363138 \nL 256.8125 158.107812 \nL 258.879167 158.107812 \nL 260.945833 157.644176 \nL 263.0125 161.55053 \nL 267.145833 160.684141 \nL 269.2125 159.564483 \nL 271.279167 174.874914 \nL 273.345833 184.022663 \nL 275.4125 180.889366 \nL 277.479167 184.022663 \nL 279.545833 161.104658 \nL 281.6125 161.104658 \nL 283.679167 171.496631 \nL 285.745833 161.55053 \nL 287.8125 162.022657 \nL 291.945833 159.235042 \nL 294.0125 157.237089 \nL 296.079167 156.423709 \nL 298.145833 155.93787 \nL 304.345833 156.290339 \nL 306.4125 155.93787 \nL 308.479167 156.047942 \nL 310.545833 155.93787 \nL 312.6125 156.423709 \nL 314.679167 155.646442 \nL 316.745833 155.087449 \nL 318.8125 155.266289 \nL 320.879167 161.104658 \nL 322.945833 157.434006 \nL 325.0125 156.717769 \nL 327.079167 159.915103 \nL 329.145833 160.684141 \nL 331.2125 156.565977 \nL 333.279167 157.052599 \nL 335.345833 159.235042 \nL 337.4125 157.868475 \nL 339.479167 159.235042 \nL 341.545833 157.434006 \nL 343.6125 155.93787 \nL 345.679167 156.047942 \nL 347.745833 161.104658 \nL 349.8125 181.473737 \nL 351.879167 159.915103 \nL 353.945833 161.55053 \nL 356.0125 210.083113 \nL 358.079167 180.889366 \nL 360.145833 196.146088 \nL 362.2125 176.535698 \nL 364.279167 174.874914 \nL 366.345833 180.889366 \nL 368.4125 174.874914 \nL 370.479167 174.874914 \nL 372.545833 176.535719 \nL 374.6125 192.369365 \nL 376.679167 174.874894 \nL 378.745833 185.321641 \nL 380.8125 170.668777 \nL 380.8125 170.668777 \n\" style=\"fill:none;stroke:#ff7f0e;stroke-linecap:square;stroke-width:1.5;\"/>\n   </g>\n   <g id=\"patch_3\">\n    <path d=\"M 46.0125 228.14 \nL 46.0125 10.7 \n\" style=\"fill:none;stroke:#000000;stroke-linecap:square;stroke-linejoin:miter;stroke-width:0.8;\"/>\n   </g>\n   <g id=\"patch_4\">\n    <path d=\"M 380.8125 228.14 \nL 380.8125 10.7 \n\" style=\"fill:none;stroke:#000000;stroke-linecap:square;stroke-linejoin:miter;stroke-width:0.8;\"/>\n   </g>\n   <g id=\"patch_5\">\n    <path d=\"M 46.0125 228.14 \nL 380.8125 228.14 \n\" style=\"fill:none;stroke:#000000;stroke-linecap:square;stroke-linejoin:miter;stroke-width:0.8;\"/>\n   </g>\n   <g id=\"patch_6\">\n    <path d=\"M 46.0125 10.7 \nL 380.8125 10.7 \n\" style=\"fill:none;stroke:#000000;stroke-linecap:square;stroke-linejoin:miter;stroke-width:0.8;\"/>\n   </g>\n   <g id=\"legend_1\">\n    <g id=\"patch_7\">\n     <path d=\"M 53.0125 48.05625 \nL 132.348437 48.05625 \nQ 134.348437 48.05625 134.348437 46.05625 \nL 134.348437 17.7 \nQ 134.348437 15.7 132.348437 15.7 \nL 53.0125 15.7 \nQ 51.0125 15.7 51.0125 17.7 \nL 51.0125 46.05625 \nQ 51.0125 48.05625 53.0125 48.05625 \nz\n\" style=\"fill:#ffffff;opacity:0.8;stroke:#cccccc;stroke-linejoin:miter;\"/>\n    </g>\n    <g id=\"line2d_37\">\n     <path d=\"M 55.0125 23.798437 \nL 75.0125 23.798437 \n\" style=\"fill:none;stroke:#1f77b4;stroke-linecap:square;stroke-width:1.5;\"/>\n    </g>\n    <g id=\"line2d_38\"/>\n    <g id=\"text_11\">\n     <!-- Real -->\n     <defs>\n      <path d=\"M 44.390625 34.1875 \nQ 47.5625 33.109375 50.5625 29.59375 \nQ 53.5625 26.078125 56.59375 19.921875 \nL 66.609375 0 \nL 56 0 \nL 46.6875 18.703125 \nQ 43.0625 26.03125 39.671875 28.421875 \nQ 36.28125 30.8125 30.421875 30.8125 \nL 19.671875 30.8125 \nL 19.671875 0 \nL 9.8125 0 \nL 9.8125 72.90625 \nL 32.078125 72.90625 \nQ 44.578125 72.90625 50.734375 67.671875 \nQ 56.890625 62.453125 56.890625 51.90625 \nQ 56.890625 45.015625 53.6875 40.46875 \nQ 50.484375 35.9375 44.390625 34.1875 \nz\nM 19.671875 64.796875 \nL 19.671875 38.921875 \nL 32.078125 38.921875 \nQ 39.203125 38.921875 42.84375 42.21875 \nQ 46.484375 45.515625 46.484375 51.90625 \nQ 46.484375 58.296875 42.84375 61.546875 \nQ 39.203125 64.796875 32.078125 64.796875 \nz\n\" id=\"DejaVuSans-82\"/>\n      <path d=\"M 56.203125 29.59375 \nL 56.203125 25.203125 \nL 14.890625 25.203125 \nQ 15.484375 15.921875 20.484375 11.0625 \nQ 25.484375 6.203125 34.421875 6.203125 \nQ 39.59375 6.203125 44.453125 7.46875 \nQ 49.3125 8.734375 54.109375 11.28125 \nL 54.109375 2.78125 \nQ 49.265625 0.734375 44.1875 -0.34375 \nQ 39.109375 -1.421875 33.890625 -1.421875 \nQ 20.796875 -1.421875 13.15625 6.1875 \nQ 5.515625 13.8125 5.515625 26.8125 \nQ 5.515625 40.234375 12.765625 48.109375 \nQ 20.015625 56 32.328125 56 \nQ 43.359375 56 49.78125 48.890625 \nQ 56.203125 41.796875 56.203125 29.59375 \nz\nM 47.21875 32.234375 \nQ 47.125 39.59375 43.09375 43.984375 \nQ 39.0625 48.390625 32.421875 48.390625 \nQ 24.90625 48.390625 20.390625 44.140625 \nQ 15.875 39.890625 15.1875 32.171875 \nz\n\" id=\"DejaVuSans-101\"/>\n     </defs>\n     <g transform=\"translate(83.0125 27.298437)scale(0.1 -0.1)\">\n      <use xlink:href=\"#DejaVuSans-82\"/>\n      <use x=\"69.419922\" xlink:href=\"#DejaVuSans-101\"/>\n      <use x=\"130.943359\" xlink:href=\"#DejaVuSans-97\"/>\n      <use x=\"192.222656\" xlink:href=\"#DejaVuSans-108\"/>\n     </g>\n    </g>\n    <g id=\"line2d_39\">\n     <path d=\"M 55.0125 38.476562 \nL 75.0125 38.476562 \n\" style=\"fill:none;stroke:#ff7f0e;stroke-linecap:square;stroke-width:1.5;\"/>\n    </g>\n    <g id=\"line2d_40\"/>\n    <g id=\"text_12\">\n     <!-- Predicted -->\n     <defs>\n      <path d=\"M 19.671875 64.796875 \nL 19.671875 37.40625 \nL 32.078125 37.40625 \nQ 38.96875 37.40625 42.71875 40.96875 \nQ 46.484375 44.53125 46.484375 51.125 \nQ 46.484375 57.671875 42.71875 61.234375 \nQ 38.96875 64.796875 32.078125 64.796875 \nz\nM 9.8125 72.90625 \nL 32.078125 72.90625 \nQ 44.34375 72.90625 50.609375 67.359375 \nQ 56.890625 61.8125 56.890625 51.125 \nQ 56.890625 40.328125 50.609375 34.8125 \nQ 44.34375 29.296875 32.078125 29.296875 \nL 19.671875 29.296875 \nL 19.671875 0 \nL 9.8125 0 \nz\n\" id=\"DejaVuSans-80\"/>\n      <path d=\"M 45.40625 46.390625 \nL 45.40625 75.984375 \nL 54.390625 75.984375 \nL 54.390625 0 \nL 45.40625 0 \nL 45.40625 8.203125 \nQ 42.578125 3.328125 38.25 0.953125 \nQ 33.9375 -1.421875 27.875 -1.421875 \nQ 17.96875 -1.421875 11.734375 6.484375 \nQ 5.515625 14.40625 5.515625 27.296875 \nQ 5.515625 40.1875 11.734375 48.09375 \nQ 17.96875 56 27.875 56 \nQ 33.9375 56 38.25 53.625 \nQ 42.578125 51.265625 45.40625 46.390625 \nz\nM 14.796875 27.296875 \nQ 14.796875 17.390625 18.875 11.75 \nQ 22.953125 6.109375 30.078125 6.109375 \nQ 37.203125 6.109375 41.296875 11.75 \nQ 45.40625 17.390625 45.40625 27.296875 \nQ 45.40625 37.203125 41.296875 42.84375 \nQ 37.203125 48.484375 30.078125 48.484375 \nQ 22.953125 48.484375 18.875 42.84375 \nQ 14.796875 37.203125 14.796875 27.296875 \nz\n\" id=\"DejaVuSans-100\"/>\n      <path d=\"M 9.421875 54.6875 \nL 18.40625 54.6875 \nL 18.40625 0 \nL 9.421875 0 \nz\nM 9.421875 75.984375 \nL 18.40625 75.984375 \nL 18.40625 64.59375 \nL 9.421875 64.59375 \nz\n\" id=\"DejaVuSans-105\"/>\n      <path d=\"M 48.78125 52.59375 \nL 48.78125 44.1875 \nQ 44.96875 46.296875 41.140625 47.34375 \nQ 37.3125 48.390625 33.40625 48.390625 \nQ 24.65625 48.390625 19.8125 42.84375 \nQ 14.984375 37.3125 14.984375 27.296875 \nQ 14.984375 17.28125 19.8125 11.734375 \nQ 24.65625 6.203125 33.40625 6.203125 \nQ 37.3125 6.203125 41.140625 7.25 \nQ 44.96875 8.296875 48.78125 10.40625 \nL 48.78125 2.09375 \nQ 45.015625 0.34375 40.984375 -0.53125 \nQ 36.96875 -1.421875 32.421875 -1.421875 \nQ 20.0625 -1.421875 12.78125 6.34375 \nQ 5.515625 14.109375 5.515625 27.296875 \nQ 5.515625 40.671875 12.859375 48.328125 \nQ 20.21875 56 33.015625 56 \nQ 37.15625 56 41.109375 55.140625 \nQ 45.0625 54.296875 48.78125 52.59375 \nz\n\" id=\"DejaVuSans-99\"/>\n      <path d=\"M 18.3125 70.21875 \nL 18.3125 54.6875 \nL 36.8125 54.6875 \nL 36.8125 47.703125 \nL 18.3125 47.703125 \nL 18.3125 18.015625 \nQ 18.3125 11.328125 20.140625 9.421875 \nQ 21.96875 7.515625 27.59375 7.515625 \nL 36.8125 7.515625 \nL 36.8125 0 \nL 27.59375 0 \nQ 17.1875 0 13.234375 3.875 \nQ 9.28125 7.765625 9.28125 18.015625 \nL 9.28125 47.703125 \nL 2.6875 47.703125 \nL 2.6875 54.6875 \nL 9.28125 54.6875 \nL 9.28125 70.21875 \nz\n\" id=\"DejaVuSans-116\"/>\n     </defs>\n     <g transform=\"translate(83.0125 41.976562)scale(0.1 -0.1)\">\n      <use xlink:href=\"#DejaVuSans-80\"/>\n      <use x=\"60.287109\" xlink:href=\"#DejaVuSans-114\"/>\n      <use x=\"101.369141\" xlink:href=\"#DejaVuSans-101\"/>\n      <use x=\"162.892578\" xlink:href=\"#DejaVuSans-100\"/>\n      <use x=\"226.369141\" xlink:href=\"#DejaVuSans-105\"/>\n      <use x=\"254.152344\" xlink:href=\"#DejaVuSans-99\"/>\n      <use x=\"309.132812\" xlink:href=\"#DejaVuSans-116\"/>\n      <use x=\"348.341797\" xlink:href=\"#DejaVuSans-101\"/>\n      <use x=\"409.865234\" xlink:href=\"#DejaVuSans-100\"/>\n     </g>\n    </g>\n   </g>\n  </g>\n </g>\n <defs>\n  <clipPath id=\"p6601d6e638\">\n   <rect height=\"217.44\" width=\"334.8\" x=\"46.0125\" y=\"10.7\"/>\n  </clipPath>\n </defs>\n</svg>\n",
      "image/png": "[encoded data removed]"
     },
     "metadata": {
      "needs_background": "light"
     }
    }
   ],
   "source": [
    "# Plot the real vs predicted values as a line chart\n",
    "stocks.plot()"
   ]
  },
  {
   "source": [
    "### Which model has a lower loss?\n",
    "\n",
    "The closing prices model has a lower loss (0.01309 vs 0.0849) than this model.\n",
    "\n",
    "### Which model tracks the actual values better over time?\n",
    "\n",
    "This closing prices model tracks the actual values better over time than this model.\n",
    "\n",
    "### Which window size works best for the model?\n",
    "\n",
    "The window size of 1 yielded the lowest loss for both models. The difference was negligible for the closing prices model. The difference for the fear and greed index model was around 7% less."
   ],
   "cell_type": "markdown",
   "metadata": {}
  }
 ],
 "metadata": {
  "file_extension": ".py",
  "kernelspec": {
   "display_name": "Python 3",
   "language": "python",
   "name": "python3"
  },
  "language_info": {
   "codemirror_mode": {
    "name": "ipython",
    "version": 3
   },
   "file_extension": ".py",
   "mimetype": "text/x-python",
   "name": "python",
   "nbconvert_exporter": "python",
   "pygments_lexer": "ipython3",
   "version": "3.7.7-final"
  },
  "mimetype": "text/x-python",
  "name": "python",
  "npconvert_exporter": "python",
  "pygments_lexer": "ipython3",
  "version": 3
 },
 "nbformat": 4,
 "nbformat_minor": 4
}